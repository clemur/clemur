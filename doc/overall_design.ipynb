{
 "cells": [
  {
   "cell_type": "markdown",
   "metadata": {},
   "source": [
    "# Overall design for Clemur"
   ]
  },
  {
   "cell_type": "markdown",
   "metadata": {},
   "source": [
    "## Background\n",
    "The Clemur project aims to implement a deep learning platform that is simple but powerful.\n",
    "As a personal project or just a time killer on Sunday afternoon, \n",
    "this project will practice some modern methodologies designing and implementing a DNN project, such as reference some other suitable design, use some cutting-edge technologies that used in some other successful projects.\n",
    "\n",
    "Hope this project will not be a toy, the primary developers will carry out the work in a rigorous way."
   ]
  },
  {
   "cell_type": "code",
   "execution_count": null,
   "metadata": {
    "collapsed": true
   },
   "outputs": [],
   "source": []
  }
 ],
 "metadata": {
  "kernelspec": {
   "display_name": "Python 2",
   "language": "python",
   "name": "python2"
  },
  "language_info": {
   "codemirror_mode": {
    "name": "ipython",
    "version": 2
   },
   "file_extension": ".py",
   "mimetype": "text/x-python",
   "name": "python",
   "nbconvert_exporter": "python",
   "pygments_lexer": "ipython2",
   "version": "2.7.13"
  }
 },
 "nbformat": 4,
 "nbformat_minor": 2
}
